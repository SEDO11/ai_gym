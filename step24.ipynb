{
  "nbformat": 4,
  "nbformat_minor": 0,
  "metadata": {
    "colab": {
      "name": "Untitled5.ipynb",
      "provenance": [],
      "collapsed_sections": [],
      "authorship_tag": "ABX9TyOd8AjdC3tWPgqdRE2JM/2n",
      "include_colab_link": true
    },
    "kernelspec": {
      "name": "python3",
      "display_name": "Python 3"
    },
    "language_info": {
      "name": "python"
    }
  },
  "cells": [
    {
      "cell_type": "markdown",
      "metadata": {
        "id": "view-in-github",
        "colab_type": "text"
      },
      "source": [
        "<a href=\"https://colab.research.google.com/github/SEDO11/ai_gym/blob/master/step24.ipynb\" target=\"_parent\"><img src=\"https://colab.research.google.com/assets/colab-badge.svg\" alt=\"Open In Colab\"/></a>"
      ]
    },
    {
      "cell_type": "code",
      "metadata": {
        "colab": {
          "base_uri": "https://localhost:8080/"
        },
        "id": "iJFrdPMbi89z",
        "outputId": "8d73abbf-3d8c-44ad-f973-942035c2094e"
      },
      "source": [
        "#2401\n",
        "from tensorflow.keras.datasets import imdb\n",
        "import numpy as np\n",
        "\n",
        "#1\n",
        "(x_train, y_train), (x_test, y_test) = imdb.load_data() # index_from=3\n",
        "\n",
        "#2\n",
        "# (x_train, y_train), (x_test, y_test) = imdb.load_data(skip_top=15, num_words=101)\n",
        "\n",
        "##print(\"x_train.shape=\",x_train.shape) # (25000,)\n",
        "##print(\"y_train.shape=\",y_train.shape) # (25000,)\n",
        "##print(\"x_test.shape=\", x_test.shape)  # (25000,)\n",
        "##print(\"y_test.shape=\", y_test.shape)  # (25000,)\n",
        "\n",
        "#3\n",
        "##nlabel, count = np.unique(y_train, return_counts=True)\n",
        "##print(\"nlabel:\", nlabel)\n",
        "##print(\"count:\",  count)\n",
        "##print(\"# of Class:\",  len(nlabel) ) # 2\n",
        "\n",
        "print(\"max(x_train words):\", max(len(x) for x in x_train)) # 2494\n",
        "print(\"max(x_test words):\",  max(len(x) for x in x_test)) # 2315\n",
        "print(\"x_train[0]:\", x_train[0])\n",
        "print(\"y_train[0]:\", y_train[0])\n",
        "\n",
        "#4: decoding x_train[n], reverse from integers to words\n",
        "# ref: https://builtin.com/data-science/how-build-neural-network-keras\n",
        "n = 0\n",
        "index = imdb.get_word_index()\n",
        "reverse_index  = dict([(value, key) for (key, value) in index.items()]) \n",
        "review = \" \".join( [reverse_index.get(i-3, \"?\") for i in x_train[n]] )\n",
        "print(\"review of x_train[{}]:\\n{}\".format(n, review))\n"
      ],
      "execution_count": 2,
      "outputs": [
        {
          "output_type": "stream",
          "name": "stdout",
          "text": [
            "max(x_train words): 2494\n",
            "max(x_test words): 2315\n",
            "x_train[0]: [1, 14, 22, 16, 43, 530, 973, 1622, 1385, 65, 458, 4468, 66, 3941, 4, 173, 36, 256, 5, 25, 100, 43, 838, 112, 50, 670, 22665, 9, 35, 480, 284, 5, 150, 4, 172, 112, 167, 21631, 336, 385, 39, 4, 172, 4536, 1111, 17, 546, 38, 13, 447, 4, 192, 50, 16, 6, 147, 2025, 19, 14, 22, 4, 1920, 4613, 469, 4, 22, 71, 87, 12, 16, 43, 530, 38, 76, 15, 13, 1247, 4, 22, 17, 515, 17, 12, 16, 626, 18, 19193, 5, 62, 386, 12, 8, 316, 8, 106, 5, 4, 2223, 5244, 16, 480, 66, 3785, 33, 4, 130, 12, 16, 38, 619, 5, 25, 124, 51, 36, 135, 48, 25, 1415, 33, 6, 22, 12, 215, 28, 77, 52, 5, 14, 407, 16, 82, 10311, 8, 4, 107, 117, 5952, 15, 256, 4, 31050, 7, 3766, 5, 723, 36, 71, 43, 530, 476, 26, 400, 317, 46, 7, 4, 12118, 1029, 13, 104, 88, 4, 381, 15, 297, 98, 32, 2071, 56, 26, 141, 6, 194, 7486, 18, 4, 226, 22, 21, 134, 476, 26, 480, 5, 144, 30, 5535, 18, 51, 36, 28, 224, 92, 25, 104, 4, 226, 65, 16, 38, 1334, 88, 12, 16, 283, 5, 16, 4472, 113, 103, 32, 15, 16, 5345, 19, 178, 32]\n",
            "y_train[0]: 1\n",
            "review of x_train[0]:\n",
            "? this film was just brilliant casting location scenery story direction everyone's really suited the part they played and you could just imagine being there robert redford's is an amazing actor and now the same being director norman's father came from the same scottish island as myself so i loved the fact there was a real connection with this film the witty remarks throughout the film were great it was just brilliant so much that i bought the film as soon as it was released for retail and would recommend it to everyone to watch and the fly fishing was amazing really cried at the end it was so sad and you know what they say if you cry at a film it must have been good and this definitely was also congratulations to the two little boy's that played the part's of norman and paul they were just brilliant children are often left out of the praising list i think because the stars that play them all grown up are such a big profile for the whole film but these children are amazing and should be praised for what they have done don't you think the whole story was so lovely because it was true and was someone's life after all that was shared with us all\n"
          ]
        }
      ]
    },
    {
      "cell_type": "code",
      "metadata": {
        "colab": {
          "base_uri": "https://localhost:8080/"
        },
        "id": "qgfaeL0VmwER",
        "outputId": "919639e3-ab19-4555-acda-5c6a67a39011"
      },
      "source": [
        "#2402\n",
        "import tensorflow as tf\n",
        "import numpy as np\n",
        "#1\n",
        "texts = ['This is a film','This is not a film']\n",
        "top_words= 10 # maximum integer index + 1\n",
        "\n",
        "#2\n",
        "tokenizer = tf.keras.preprocessing.text.Tokenizer(num_words=top_words)\n",
        "tokenizer.fit_on_texts(texts)\n",
        "print(\"tokenizer.word_index:\",tokenizer.word_index)\n",
        "\n",
        "#3\n",
        "sequences = tokenizer.texts_to_sequences(texts)\n",
        "print(\"sequences:\",sequences)\n",
        "\n",
        "#4: each vector length: top_words = 10\n",
        "output_vector = tokenizer.sequences_to_matrix(sequences) # mode='binary'\n",
        "print(\"output_vector.shape=\", output_vector.shape) # (2, 10)\n",
        "print(output_vector)\n"
      ],
      "execution_count": 3,
      "outputs": [
        {
          "output_type": "stream",
          "name": "stdout",
          "text": [
            "tokenizer.word_index: {'this': 1, 'is': 2, 'a': 3, 'film': 4, 'not': 5}\n",
            "sequences: [[1, 2, 3, 4], [1, 2, 5, 3, 4]]\n",
            "output_vector.shape= (2, 10)\n",
            "[[0. 1. 1. 1. 1. 0. 0. 0. 0. 0.]\n",
            " [0. 1. 1. 1. 1. 1. 0. 0. 0. 0.]]\n"
          ]
        }
      ]
    },
    {
      "cell_type": "code",
      "metadata": {
        "colab": {
          "base_uri": "https://localhost:8080/"
        },
        "id": "OdJF5uGmoCwP",
        "outputId": "bc36527d-6629-4d60-b4ea-106139afe8e0"
      },
      "source": [
        "#2403\n",
        "import tensorflow as tf\n",
        "import numpy as np\n",
        "#1\n",
        "texts = ['This is a film','This is not a film']\n",
        "top_words    = 10  # maximum integer index + 1\n",
        "max_words    = 6  # sequences.shape[1]\n",
        "vecor_length = 3  # dimension of the dense embedding\n",
        "\n",
        "#2\n",
        "tokenizer = tf.keras.preprocessing.text.Tokenizer(num_words=top_words)\n",
        "tokenizer.fit_on_texts(texts)\n",
        "print(\"tokenizer.word_index:\",tokenizer.word_index)\n",
        "\n",
        "#3\n",
        "sequences = tokenizer.texts_to_sequences(texts)\n",
        "print(\"sequences:\",sequences)\n",
        "\n",
        "#4\n",
        "sequences = tf.keras.preprocessing.sequence.pad_sequences(sequences, max_words)\n",
        "print('sequences.shape=', sequences.shape)\n",
        "print(\"sequences:\", sequences)\n",
        "\n",
        "#5\n",
        "model = tf.keras.Sequential()\n",
        "model.add(tf.keras.layers.Embedding(input_dim =top_words, output_dim=vecor_length))\n",
        "##model.add(tf.keras.layers.Flatten()) # output_vector.shape = (2, 18)\n",
        "model.summary()\n",
        "\n",
        "#6\n",
        "output_vector = model.predict(sequences)\n",
        "print(\"output_vector.shape:\", output_vector.shape )\n",
        "print(\"output_vector:\", output_vector )\n"
      ],
      "execution_count": 5,
      "outputs": [
        {
          "output_type": "stream",
          "name": "stdout",
          "text": [
            "tokenizer.word_index: {'this': 1, 'is': 2, 'a': 3, 'film': 4, 'not': 5}\n",
            "sequences: [[1, 2, 3, 4], [1, 2, 5, 3, 4]]\n",
            "sequences.shape= (2, 6)\n",
            "sequences: [[0 0 1 2 3 4]\n",
            " [0 1 2 5 3 4]]\n",
            "Model: \"sequential_1\"\n",
            "_________________________________________________________________\n",
            " Layer (type)                Output Shape              Param #   \n",
            "=================================================================\n",
            " embedding_1 (Embedding)     (None, None, 3)           30        \n",
            "                                                                 \n",
            "=================================================================\n",
            "Total params: 30\n",
            "Trainable params: 30\n",
            "Non-trainable params: 0\n",
            "_________________________________________________________________\n",
            "output_vector.shape: (2, 6, 3)\n",
            "output_vector: [[[ 0.0352846  -0.02199955  0.01172159]\n",
            "  [ 0.0352846  -0.02199955  0.01172159]\n",
            "  [ 0.04211077 -0.04208437  0.03658502]\n",
            "  [ 0.03547728  0.02655457  0.00331203]\n",
            "  [-0.0494177   0.04902964 -0.0053882 ]\n",
            "  [ 0.00243954 -0.02104955 -0.0478155 ]]\n",
            "\n",
            " [[ 0.0352846  -0.02199955  0.01172159]\n",
            "  [ 0.04211077 -0.04208437  0.03658502]\n",
            "  [ 0.03547728  0.02655457  0.00331203]\n",
            "  [ 0.04660342  0.03285429 -0.04325659]\n",
            "  [-0.0494177   0.04902964 -0.0053882 ]\n",
            "  [ 0.00243954 -0.02104955 -0.0478155 ]]]\n"
          ]
        }
      ]
    },
    {
      "cell_type": "code",
      "metadata": {
        "colab": {
          "base_uri": "https://localhost:8080/"
        },
        "id": "HVzMfiKYqKph",
        "outputId": "2aa8e9f1-37ce-4fea-f01a-81be302e5c36"
      },
      "source": [
        "#2404\n",
        "import tensorflow as tf\n",
        "from tensorflow.keras.datasets import imdb\n",
        "import numpy as np\n",
        "import matplotlib.pyplot as plt\n",
        "#1\n",
        "top_words    = 1000\n",
        "(x_train, y_train), (x_test, y_test) = imdb.load_data(num_words=top_words)\n",
        "##print(\"x_train.shape=\",x_train.shape) # (25000,)\n",
        "##print(\"x_test.shape=\", x_test.shape)  # (25000,)\n",
        "\n",
        "#2: binary encoding\n",
        "tokenizer = tf.keras.preprocessing.text.Tokenizer(num_words=top_words)\n",
        "x_train = tokenizer.sequences_to_matrix(x_train) # mode='binary'\n",
        "x_test = tokenizer.sequences_to_matrix(x_test)\n",
        "##print(\"x_train.shape=\",x_train.shape) # (25000, 1000)\n",
        "##print(\"x_test.shape=\", x_test.shape)  # (25000, 1000)\n",
        "\n",
        "# one-hot encoding: 'mse', 'categorical_crossentropy'  \n",
        "y_train = tf.keras.utils.to_categorical(y_train)\n",
        "y_test = tf.keras.utils.to_categorical(y_test)\n",
        "##print(\"y_train=\", y_train)\n",
        "##print(\"y_test=\", y_test)\n",
        "\n",
        "#3\n",
        "model = tf.keras.Sequential()\n",
        "model.add(tf.keras.layers.Dense(units=10, input_dim = top_words, activation='sigmoid'))\n",
        "model.add(tf.keras.layers.Dense(units=2, activation='softmax'))\n",
        "model.summary()\n",
        "\n",
        "opt = tf.keras.optimizers.RMSprop(learning_rate=0.01)\n",
        "model.compile(optimizer=opt, loss='categorical_crossentropy', metrics=['accuracy'])\n",
        "ret = model.fit(x_train, y_train, epochs=100, batch_size=1280, verbose=0)\n",
        "\n",
        "#4\n",
        "train_loss, train_acc = model.evaluate(x_train, y_train, verbose=2)\n",
        "test_loss, test_acc = model.evaluate(x_test,  y_test, verbose=2)\n"
      ],
      "execution_count": 6,
      "outputs": [
        {
          "output_type": "stream",
          "name": "stdout",
          "text": [
            "Model: \"sequential_2\"\n",
            "_________________________________________________________________\n",
            " Layer (type)                Output Shape              Param #   \n",
            "=================================================================\n",
            " dense (Dense)               (None, 10)                10010     \n",
            "                                                                 \n",
            " dense_1 (Dense)             (None, 2)                 22        \n",
            "                                                                 \n",
            "=================================================================\n",
            "Total params: 10,032\n",
            "Trainable params: 10,032\n",
            "Non-trainable params: 0\n",
            "_________________________________________________________________\n",
            "782/782 - 1s - loss: 0.0450 - accuracy: 0.9904 - 934ms/epoch - 1ms/step\n",
            "782/782 - 1s - loss: 0.7200 - accuracy: 0.8297 - 805ms/epoch - 1ms/step\n"
          ]
        }
      ]
    },
    {
      "cell_type": "code",
      "metadata": {
        "colab": {
          "base_uri": "https://localhost:8080/",
          "height": 628
        },
        "id": "8nKjxjWgsmje",
        "outputId": "f7e8f0c7-750f-42f1-ca12-585f15d7a1e6"
      },
      "source": [
        "#2405\n",
        "import tensorflow as tf\n",
        "from tensorflow.keras.datasets import imdb\n",
        "import numpy as np\n",
        "import matplotlib.pyplot as plt\n",
        "#1\n",
        "top_words    = 1000\n",
        "(x_train, y_train), (x_test, y_test) = imdb.load_data(num_words=top_words)\n",
        "##print(\"x_train.shape=\",x_train.shape) # (25000,)\n",
        "##print(\"x_test.shape=\", x_test.shape)  # (25000,)\n",
        "\n",
        "#2\n",
        "max_words = 100\n",
        "x_train= tf.keras.preprocessing.sequence.pad_sequences(x_train, maxlen=max_words)\n",
        "x_test = tf.keras.preprocessing.sequence.pad_sequences(x_test,  maxlen=max_words)\n",
        "####print(\"x_train.shape=\",x_train.shape) # (25000, 100)\n",
        "####print(\"x_test.shape=\", x_test.shape)  # (25000, 100)\n",
        "\n",
        "# one-hot encoding: 'mse', 'categorical_crossentropy'  \n",
        "y_train = tf.keras.utils.to_categorical(y_train)\n",
        "y_test = tf.keras.utils.to_categorical(y_test)\n",
        "##print(\"y_train=\", y_train)\n",
        "##print(\"y_test=\", y_test)\n",
        "\n",
        "#3\n",
        "vecor_length = 10   # dimension of the dense embedding\n",
        "model = tf.keras.Sequential()\n",
        "model.add(tf.keras.layers.Embedding(input_dim =top_words,\n",
        "                                    output_dim=vecor_length,\n",
        "                                    input_length=max_words))\n",
        "model.add(tf.keras.layers.Flatten())\n",
        "model.add(tf.keras.layers.Dense(units=10, activation='sigmoid'))\n",
        "model.add(tf.keras.layers.Dense(units=2, activation='softmax'))\n",
        "model.summary()\n",
        "\n",
        "opt = tf.keras.optimizers.RMSprop(learning_rate=0.01)\n",
        "model.compile(optimizer=opt, loss='categorical_crossentropy', metrics=['accuracy'])\n",
        "ret = model.fit(x_train, y_train, epochs=10, batch_size=128, verbose=0)\n",
        "loss = ret.history['loss']\n",
        "plt.plot(loss)\n",
        "plt.xlabel('epochs')\n",
        "plt.ylabel('loss')\n",
        "plt.show()\n",
        "\n",
        "#4\n",
        "train_loss, train_acc = model.evaluate(x_train, y_train, verbose=2)\n",
        "test_loss, test_acc = model.evaluate(x_test,  y_test, verbose=2)\n"
      ],
      "execution_count": 7,
      "outputs": [
        {
          "output_type": "stream",
          "name": "stdout",
          "text": [
            "Model: \"sequential_3\"\n",
            "_________________________________________________________________\n",
            " Layer (type)                Output Shape              Param #   \n",
            "=================================================================\n",
            " embedding_2 (Embedding)     (None, 100, 10)           10000     \n",
            "                                                                 \n",
            " flatten (Flatten)           (None, 1000)              0         \n",
            "                                                                 \n",
            " dense_2 (Dense)             (None, 10)                10010     \n",
            "                                                                 \n",
            " dense_3 (Dense)             (None, 2)                 22        \n",
            "                                                                 \n",
            "=================================================================\n",
            "Total params: 20,032\n",
            "Trainable params: 20,032\n",
            "Non-trainable params: 0\n",
            "_________________________________________________________________\n"
          ]
        },
        {
          "output_type": "display_data",
          "data": {
            "image/png": "[encoded data removed]",
            "text/plain": [
              "<Figure size 432x288 with 1 Axes>"
            ]
          },
          "metadata": {
            "needs_background": "light"
          }
        },
        {
          "output_type": "stream",
          "name": "stdout",
          "text": [
            "782/782 - 1s - loss: 0.0811 - accuracy: 0.9802 - 932ms/epoch - 1ms/step\n",
            "782/782 - 1s - loss: 0.7378 - accuracy: 0.7813 - 818ms/epoch - 1ms/step\n"
          ]
        }
      ]
    }
  ]
}